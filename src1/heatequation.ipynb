{
 "metadata": {
  "name": ""
 },
 "nbformat": 3,
 "nbformat_minor": 0,
 "worksheets": [
  {
   "cells": [
    {
     "cell_type": "code",
     "collapsed": false,
     "input": [
      "import numpy as np \n",
      "import matplotlib.pyplot as plt\n",
      "%pylab inline"
     ],
     "language": "python",
     "metadata": {},
     "outputs": [
      {
       "output_type": "stream",
       "stream": "stdout",
       "text": [
        "Populating the interactive namespace from numpy and matplotlib\n"
       ]
      }
     ],
     "prompt_number": 8
    },
    {
     "cell_type": "code",
     "collapsed": false,
     "input": [
      "h=0.01\n",
      "k=1./600\n",
      "x = np.linspace(0,1,num=1/h+1) \n",
      "gamma = k/h**2\n",
      "#u = np.zeros((2,1/h+1))\n",
      "#u[1,:] = np.sin(pi*x)\n",
      "print k "
     ],
     "language": "python",
     "metadata": {},
     "outputs": [
      {
       "output_type": "stream",
       "stream": "stdout",
       "text": [
        "0.00166666666667\n"
       ]
      }
     ],
     "prompt_number": 9
    },
    {
     "cell_type": "code",
     "collapsed": false,
     "input": [
      "def heat_solver(hinv,kinv,init='sine'):\n",
      "    '''solve the heat equation using with space step h and time step k along the interval [0,1]'''\n",
      "    u = np.zeros((2,hinv+1))\n",
      "    gamma = (1./kinv)/(1./hinv)**2\n",
      "    x = np.linspace(0,1,num=hinv+1)\n",
      "    if init == 'sine': \n",
      "        u[1,:] = np.sin(pi*x)\n",
      "    if init == 'arc':\n",
      "        u[1,:] = x*(1-x)\n",
      "    for i in xrange(0,kinv):\n",
      "        u[0,:] = u[1,:]\n",
      "        for j in xrange(1,hinv): \n",
      "            u[1,j] = u[0,j] + gamma * (u[0,j+1] - 2*u[0,j] + u[0,j-1])            \n",
      "        #apply boundary conditions\n",
      "        u[1,0] = 0\n",
      "        u[1,-1] = 0 \n",
      "    return u"
     ],
     "language": "python",
     "metadata": {},
     "outputs": [],
     "prompt_number": 10
    },
    {
     "cell_type": "code",
     "collapsed": false,
     "input": [
      "def heat_solver_full(hinv,kinv,init='sine'):\n",
      "    '''solve the heat equation using with space step 1/hinv and time step 1/kinv along the interval [0,1]\n",
      "    and return the entire result'''\n",
      "    u = np.zeros((kinv+1,hinv+1))\n",
      "    gamma = (1./kinv)/(1./hinv)**2\n",
      "    x = np.linspace(0,1,num=hinv+1)\n",
      "    if init == 'sine': \n",
      "        u[0,:] = np.sin(pi*x) \n",
      "    if init == 'arc':\n",
      "        u[0,:] = x*(1-x)\n",
      "    for i in xrange(0,kinv):\n",
      "        #u[i,:] = u[i+1,:]\n",
      "        for j in xrange(1,hinv): \n",
      "            u[i+1,j] = u[i,j] + gamma * (u[i,j+1] - 2*u[i,j] + u[i,j-1])            \n",
      "        #apply boundary conditions\n",
      "        u[i+1,0] = 0\n",
      "        u[i+1,-1] = 0 \n",
      "    return u"
     ],
     "language": "python",
     "metadata": {},
     "outputs": [],
     "prompt_number": 11
    },
    {
     "cell_type": "code",
     "collapsed": false,
     "input": [
      "def exact(x, n, init = 'sine'):\n",
      "    '''computes the first n terms in the solution to the heat equation at t = 1 for I.C. sin(pi x) and x(1-x) along the interval [0,1] '''\n",
      "    if init == 'sine': \n",
      "        u = np.exp(-pi**2*1)*np.sin(pi*x)\n",
      "    if init == 'arc':\n",
      "        u = np.zeros(len(x)) \n",
      "        for m in xrange(n): \n",
      "            u = u + 8./((2.*m+1)*pi)**3*np.sin((2*m+1)*pi*x)*np.exp(-(pi*(2*m + 1))**2*1) \n",
      "    return u"
     ],
     "language": "python",
     "metadata": {},
     "outputs": [],
     "prompt_number": 75
    },
    {
     "cell_type": "code",
     "collapsed": false,
     "input": [
      "x = np.linspace(0,1,num=11)\n",
      "m=0 \n",
      "plot(x,exact(x,1)) \n",
      "time600 = np.linspace(0,1,num=kinv+1) \n",
      "hinv = 10 \n",
      "kinv = 600 \n",
      "u_600 = heat_solver(hinv,kinv) \n",
      "gamma = hinv**2./kinv\n",
      "plot(x, u_600[1,:]) "
     ],
     "language": "python",
     "metadata": {},
     "outputs": [
      {
       "metadata": {},
       "output_type": "pyout",
       "prompt_number": 76,
       "text": [
        "[<matplotlib.lines.Line2D at 0x109855510>]"
       ]
      },
      {
       "metadata": {},
       "output_type": "display_data",
       "png": "[encoded data removed]",
       "text": [
        "<matplotlib.figure.Figure at 0x1098557d0>"
       ]
      }
     ],
     "prompt_number": 76
    },
    {
     "cell_type": "code",
     "collapsed": false,
     "input": [
      "x = np.linspace(0,1,num=11)\n",
      "m=0 \n",
      "plot(x,exact(x,1,init='arc')) \n",
      "time600 = np.linspace(0,1,num=kinv+1) \n",
      "hinv = 10 \n",
      "kinv = 600 \n",
      "u_600 = heat_solver(hinv,kinv, init ='arc') \n",
      "gamma = hinv**2./kinv\n",
      "plot(x, u_600[1,:]) "
     ],
     "language": "python",
     "metadata": {},
     "outputs": [
      {
       "metadata": {},
       "output_type": "pyout",
       "prompt_number": 77,
       "text": [
        "[<matplotlib.lines.Line2D at 0x109db38d0>]"
       ]
      },
      {
       "metadata": {},
       "output_type": "display_data",
       "png": "[encoded data removed]",
       "text": [
        "<matplotlib.figure.Figure at 0x109d2a050>"
       ]
      }
     ],
     "prompt_number": 77
    },
    {
     "cell_type": "code",
     "collapsed": false,
     "input": [
      "hinv = 10\n",
      "kinv = 200\n",
      "test= heat_solver(hinv,kinv) \n",
      "x = np.linspace(0,1,num=hinv+1)\n",
      "plot( x, test[1,:])\n",
      "plot(x,exact(x))"
     ],
     "language": "python",
     "metadata": {},
     "outputs": [
      {
       "ename": "TypeError",
       "evalue": "exact() takes at least 2 arguments (1 given)",
       "output_type": "pyerr",
       "traceback": [
        "\u001b[0;31m---------------------------------------------------------------------------\u001b[0m\n\u001b[0;31mTypeError\u001b[0m                                 Traceback (most recent call last)",
        "\u001b[0;32m<ipython-input-38-de2498197606>\u001b[0m in \u001b[0;36m<module>\u001b[0;34m()\u001b[0m\n\u001b[1;32m      4\u001b[0m \u001b[0mx\u001b[0m \u001b[0;34m=\u001b[0m \u001b[0mnp\u001b[0m\u001b[0;34m.\u001b[0m\u001b[0mlinspace\u001b[0m\u001b[0;34m(\u001b[0m\u001b[0;36m0\u001b[0m\u001b[0;34m,\u001b[0m\u001b[0;36m1\u001b[0m\u001b[0;34m,\u001b[0m\u001b[0mnum\u001b[0m\u001b[0;34m=\u001b[0m\u001b[0mhinv\u001b[0m\u001b[0;34m+\u001b[0m\u001b[0;36m1\u001b[0m\u001b[0;34m)\u001b[0m\u001b[0;34m\u001b[0m\u001b[0m\n\u001b[1;32m      5\u001b[0m \u001b[0mplot\u001b[0m\u001b[0;34m(\u001b[0m \u001b[0mx\u001b[0m\u001b[0;34m,\u001b[0m \u001b[0mtest\u001b[0m\u001b[0;34m[\u001b[0m\u001b[0;36m1\u001b[0m\u001b[0;34m,\u001b[0m\u001b[0;34m:\u001b[0m\u001b[0;34m]\u001b[0m\u001b[0;34m)\u001b[0m\u001b[0;34m\u001b[0m\u001b[0m\n\u001b[0;32m----> 6\u001b[0;31m \u001b[0mplot\u001b[0m\u001b[0;34m(\u001b[0m\u001b[0mx\u001b[0m\u001b[0;34m,\u001b[0m\u001b[0mexact\u001b[0m\u001b[0;34m(\u001b[0m\u001b[0mx\u001b[0m\u001b[0;34m)\u001b[0m\u001b[0;34m)\u001b[0m\u001b[0;34m\u001b[0m\u001b[0m\n\u001b[0m",
        "\u001b[0;31mTypeError\u001b[0m: exact() takes at least 2 arguments (1 given)"
       ]
      },
      {
       "metadata": {},
       "output_type": "display_data",
       "png": "[encoded data removed]",
       "text": [
        "<matplotlib.figure.Figure at 0x1074c3b10>"
       ]
      }
     ],
     "prompt_number": 38
    },
    {
     "cell_type": "code",
     "collapsed": false,
     "input": [
      "hinv = 10\n",
      "kinv = 200\n",
      "testing = heat_solver_full(hinv,kinv) \n",
      "x = np.linspace(0,1,num=hinv+1)\n",
      "plot(x,testing[12,:])\n",
      "#plot(x,test[1,:]) \n",
      "#plot(np.exp(-pi**2*1)*np.sin(pi*x))"
     ],
     "language": "python",
     "metadata": {},
     "outputs": [
      {
       "metadata": {},
       "output_type": "pyout",
       "prompt_number": 7,
       "text": [
        "[<matplotlib.lines.Line2D at 0x105cf0c50>]"
       ]
      },
      {
       "metadata": {},
       "output_type": "display_data",
       "png": "[encoded data removed]",
       "text": [
        "<matplotlib.figure.Figure at 0x105cad350>"
       ]
      }
     ],
     "prompt_number": 7
    },
    {
     "cell_type": "markdown",
     "metadata": {},
     "source": [
      "Idea for checking convergence: look at the derivatives? "
     ]
    },
    {
     "cell_type": "code",
     "collapsed": false,
     "input": [
      "def dtime(u_matrix, kinv): \n",
      "    '''compute the time derivative at every point in the history'''\n",
      "    dudt= np.zeros(u_matrix.shape) \n",
      "    for i in xrange(kinv): \n",
      "        dudt[i,:] = kinv*(u_matrix[i+1,:] - u_matrix[i,:])\n",
      "    return dudt \n",
      "def dspace(u_matrix, hinv): \n",
      "    '''compute the time derivative at every point in the history'''\n",
      "    dxdt= np.zeros(u_matrix.shape) \n",
      "    for i in xrange(hinv): \n",
      "        dxdt[:,i] = hinv*u_matrix[:,i+1] - u_matrix[:,i]\n",
      "    return dxdt "
     ],
     "language": "python",
     "metadata": {},
     "outputs": [],
     "prompt_number": 8
    },
    {
     "cell_type": "code",
     "collapsed": false,
     "input": [
      "hinv = 10 \n",
      "kinv = 200 \n",
      "time200 = np.linspace(0,1,num=201) \n",
      "u_200 = heat_solver_full(hinv,kinv) \n",
      "dt200 = dtime(u_200,kinv) \n",
      "dx200 = dspace(u_200,hinv) \n",
      "gamma = hinv**2./kinv\n",
      "print gamma \n",
      "\n",
      "time600 = np.linspace(0,1,num=601) \n",
      "\n",
      "hinv = 10 \n",
      "kinv = 600 \n",
      "u_600 = heat_solver_full(hinv,kinv) \n",
      "dt600 = dtime(u_600,kinv) \n",
      "dx600 = dspace(u_600,hinv)\n",
      "gamma = hinv**2./kinv\n",
      "print gamma \n",
      "\n",
      "hinv = 10\n",
      "kinv = 1800 \n",
      "time1000 = np.linspace(0,1,num=kinv+1) \n",
      "u_1800 = heat_solver_full(hinv,kinv) \n",
      "dt1800 = dtime(u_1800,kinv) \n",
      "dx1800 = dspace(u_1800,hinv)\n",
      "gamma = hinv**2./kinv\n",
      "print gamma \n"
     ],
     "language": "python",
     "metadata": {},
     "outputs": [
      {
       "output_type": "stream",
       "stream": "stdout",
       "text": [
        "0.5\n",
        "0.166666666667\n",
        "0.0555555555556"
       ]
      },
      {
       "output_type": "stream",
       "stream": "stdout",
       "text": [
        "\n"
       ]
      }
     ],
     "prompt_number": 11
    },
    {
     "cell_type": "markdown",
     "metadata": {},
     "source": [
      "Let's look at convergence for fixed $\\lambda$ (see notes for derivation) An alternative idea to fall back on is that the solution should converge to something with small enough timestep. I could just use that as the exact solution... "
     ]
    },
    {
     "cell_type": "code",
     "collapsed": false,
     "input": [
      "\n",
      "time600 = np.linspace(0,1,num=kinv+1) \n",
      "hinv = 10 \n",
      "kinv = 600 \n",
      "u_600 = heat_solver(hinv,kinv) \n",
      "gamma = hinv**2./kinv\n",
      "print gamma \n",
      "\n",
      "hinv = 20\n",
      "kinv = 2400\n",
      "time2400 = np.linspace(0,1,num=kinv+1) \n",
      "u_2400 = heat_solver(hinv,kinv) \n",
      "gamma = hinv**2./kinv\n",
      "print gamma \n",
      "\n",
      "hinv = 40\n",
      "kinv = 9600\n",
      "time9600 = np.linspace(0,1,num=kinv+1) \n",
      "u_9600 = heat_solver(hinv,kinv) \n",
      "gamma = hinv**2./kinv\n",
      "print gamma "
     ],
     "language": "python",
     "metadata": {},
     "outputs": [
      {
       "output_type": "stream",
       "stream": "stdout",
       "text": [
        "0.166666666667\n",
        "0.166666666667"
       ]
      },
      {
       "output_type": "stream",
       "stream": "stdout",
       "text": [
        "\n",
        "0.166666666667"
       ]
      },
      {
       "output_type": "stream",
       "stream": "stdout",
       "text": [
        "\n"
       ]
      }
     ],
     "prompt_number": 42
    },
    {
     "cell_type": "markdown",
     "metadata": {},
     "source": [
      "before calculating p, need to interpolate u to same grid"
     ]
    },
    {
     "cell_type": "code",
     "collapsed": false,
     "input": [
      "from scipy import interpolate\n",
      "x = np.linspace(0,1,num=11) \n",
      "x21 = np.linspace(0,1,num = 21) \n",
      "u_24 = interpolate.interp1d(x21,u_2400[1,:])\n",
      "x41 = np.linspace(0,1,num=41) \n",
      "u_96 = interpolate.interp1d(x41,u_9600[1,:])\n",
      "plot(x, u_24(x)) "
     ],
     "language": "python",
     "metadata": {},
     "outputs": [
      {
       "metadata": {},
       "output_type": "pyout",
       "prompt_number": 37,
       "text": [
        "[<matplotlib.lines.Line2D at 0x107d73690>]"
       ]
      },
      {
       "metadata": {},
       "output_type": "display_data",
       "png": "[encoded data removed]",
       "text": [
        "<matplotlib.figure.Figure at 0x107d31350>"
       ]
      }
     ],
     "prompt_number": 37
    },
    {
     "cell_type": "code",
     "collapsed": false,
     "input": [
      "p = np.log((u_600[1,:]-u_24(x))/(u_24(x)-u_96(x)))/np.log(2.) \n",
      "print p "
     ],
     "language": "python",
     "metadata": {},
     "outputs": [
      {
       "output_type": "stream",
       "stream": "stdout",
       "text": [
        "[        nan  4.01014094  4.01014094  4.01014094  4.01014094  4.01014094\n",
        "  4.01014094  4.01014094  4.01014094  4.01014094         nan]\n"
       ]
      }
     ],
     "prompt_number": 44
    },
    {
     "cell_type": "code",
     "collapsed": false,
     "input": [
      "time200 = np.linspace(0,1,num=kinv+1) \n",
      "hinv = 10 \n",
      "kinv = 200 \n",
      "u_200 = heat_solver(hinv,kinv) \n",
      "gamma = hinv**2./kinv\n",
      "print gamma \n",
      "\n",
      "hinv = 20\n",
      "kinv = 800\n",
      "time800 = np.linspace(0,1,num=kinv+1) \n",
      "u_800 = heat_solver(hinv,kinv) \n",
      "gamma = hinv**2./kinv\n",
      "print gamma \n",
      "\n",
      "hinv = 40\n",
      "kinv = 3200\n",
      "time3200 = np.linspace(0,1,num=kinv+1) \n",
      "u_3200 = heat_solver(hinv,kinv) \n",
      "gamma = hinv**2./kinv\n",
      "print gamma "
     ],
     "language": "python",
     "metadata": {},
     "outputs": [
      {
       "output_type": "stream",
       "stream": "stdout",
       "text": [
        "0.5\n",
        "0.5"
       ]
      },
      {
       "output_type": "stream",
       "stream": "stdout",
       "text": [
        "\n",
        "0.5"
       ]
      },
      {
       "output_type": "stream",
       "stream": "stdout",
       "text": [
        "\n"
       ]
      }
     ],
     "prompt_number": 39
    },
    {
     "cell_type": "code",
     "collapsed": false,
     "input": [
      "x21 = np.linspace(0,1,num = 21) \n",
      "u_80 = interpolate.interp1d(x21,u_800[1,:])\n",
      "x41 = np.linspace(0,1,num=41) \n",
      "u_320 = interpolate.interp1d(x41,u_3200[1,:])"
     ],
     "language": "python",
     "metadata": {},
     "outputs": [],
     "prompt_number": 40
    },
    {
     "cell_type": "code",
     "collapsed": false,
     "input": [
      "p = np.log((u_200[1,:]-u_80(x))/(u_80(x)-u_320(x)))/np.log(2.) \n",
      "print p "
     ],
     "language": "python",
     "metadata": {},
     "outputs": [
      {
       "output_type": "stream",
       "stream": "stdout",
       "text": [
        "[        nan  1.92422168  1.92422168  1.92422168  1.92422168  1.92422168\n",
        "  1.92422168  1.92422168  1.92422168  1.92422168         nan]\n"
       ]
      }
     ],
     "prompt_number": 41
    },
    {
     "cell_type": "heading",
     "level": 1,
     "metadata": {},
     "source": [
      "fixed gamma solver for nonlinear heat equation"
     ]
    },
    {
     "cell_type": "code",
     "collapsed": false,
     "input": [],
     "language": "python",
     "metadata": {},
     "outputs": []
    }
   ],
   "metadata": {}
  }
 ]
}