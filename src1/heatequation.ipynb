{
 "metadata": {
  "name": ""
 },
 "nbformat": 3,
 "nbformat_minor": 0,
 "worksheets": [
  {
   "cells": [
    {
     "cell_type": "code",
     "collapsed": false,
     "input": [
      "import numpy as np \n",
      "import matplotlib.pyplot as plt\n",
      "%pylab inline"
     ],
     "language": "python",
     "metadata": {},
     "outputs": [
      {
       "output_type": "stream",
       "stream": "stdout",
       "text": [
        "Populating the interactive namespace from numpy and matplotlib\n"
       ]
      }
     ],
     "prompt_number": 3
    },
    {
     "cell_type": "code",
     "collapsed": false,
     "input": [
      "h=0.01\n",
      "k=1./600\n",
      "x = np.linspace(0,1,num=1/h+1) \n",
      "gamma = k/h**2\n",
      "#u = np.zeros((2,1/h+1))\n",
      "#u[1,:] = np.sin(pi*x)\n",
      "print k "
     ],
     "language": "python",
     "metadata": {},
     "outputs": [
      {
       "output_type": "stream",
       "stream": "stdout",
       "text": [
        "0.00166666666667\n"
       ]
      }
     ],
     "prompt_number": 3
    },
    {
     "cell_type": "code",
     "collapsed": false,
     "input": [
      "def heat_solver(hinv,kinv,init='sine'):\n",
      "    '''solve the heat equation using with space step h and time step k along the interval [0,1]'''\n",
      "    u = np.zeros((2,hinv+1))\n",
      "    gamma = (1./kinv)/(1./hinv)**2\n",
      "    x = np.linspace(0,1,num=hinv+1)\n",
      "    if init == 'sine': \n",
      "        u[1,:] = np.sin(pi*x)\n",
      "    if init == 'arc':\n",
      "        u[1,:] = x*(1-x)\n",
      "    for i in xrange(0,kinv):\n",
      "        u[0,:] = u[1,:]\n",
      "        for j in xrange(1,hinv): \n",
      "            u[1,j] = u[0,j] + gamma * (u[0,j+1] - 2*u[0,j] + u[0,j-1])            \n",
      "        #apply boundary conditions\n",
      "        u[1,0] = 0\n",
      "        u[1,-1] = 0 \n",
      "    return u"
     ],
     "language": "python",
     "metadata": {},
     "outputs": [],
     "prompt_number": 4
    },
    {
     "cell_type": "code",
     "collapsed": false,
     "input": [
      "def heat_solver_full(hinv,kinv,init='sine'):\n",
      "    '''solve the heat equation using with space step 1/hinv and time step 1/kinv along the interval [0,1]\n",
      "    and return the entire result'''\n",
      "    u = np.zeros((kinv+1,hinv+1))\n",
      "    gamma = (1./kinv)/(1./hinv)**2\n",
      "    x = np.linspace(0,1,num=hinv+1)\n",
      "    if init == 'sine': \n",
      "        u[0,:] = np.sin(pi*x) \n",
      "    if init == 'arc':\n",
      "        u[0,:] = x*(1-x)\n",
      "    for i in xrange(0,kinv):\n",
      "        #u[i,:] = u[i+1,:]\n",
      "        for j in xrange(1,hinv): \n",
      "            u[i+1,j] = u[i,j] + gamma * (u[i,j+1] - 2*u[i,j] + u[i,j-1])            \n",
      "        #apply boundary conditions\n",
      "        u[i+1,0] = 0\n",
      "        u[i+1,-1] = 0 \n",
      "    return u"
     ],
     "language": "python",
     "metadata": {},
     "outputs": [],
     "prompt_number": 5
    },
    {
     "cell_type": "code",
     "collapsed": false,
     "input": [
      "def exact(x, n, init = 'sine'):\n",
      "    '''computes the first n terms in the solution to the heat equation at t = 1 for I.C. sin(pi x) and x(1-x) along the interval [0,1] '''\n",
      "    if init == 'sine': \n",
      "        u = np.exp(-pi**2*1)*np.sin(pi*x)\n",
      "    if init == 'arc':\n",
      "        u = np.zeros(len(x)) \n",
      "        for m in xrange(n): \n",
      "            u = u + 8./((2.*m+1)*pi)**3*np.sin((2*m+1)*pi*x)*np.exp(-(pi*(2*m + 1))**2*1) \n",
      "    return u"
     ],
     "language": "python",
     "metadata": {},
     "outputs": [],
     "prompt_number": 6
    },
    {
     "cell_type": "code",
     "collapsed": false,
     "input": [
      "x = np.linspace(0,1,num=11)\n",
      "#plot(x,exact(x,1)) \n",
      "#time600 = np.linspace(0,1,num=kinv+1) \n",
      "hinv = 10 \n",
      "kinv = 600 \n",
      "u_600 = heat_solver(hinv,kinv) \n",
      "gamma = hinv**2./kinv\n",
      "plot(x, exact(x,1) - u_600[1,:]) "
     ],
     "language": "python",
     "metadata": {},
     "outputs": [
      {
       "metadata": {},
       "output_type": "pyout",
       "prompt_number": 13,
       "text": [
        "[<matplotlib.lines.Line2D at 0x106586210>]"
       ]
      },
      {
       "metadata": {},
       "output_type": "display_data",
       "png": "[encoded data removed]",
       "text": [
        "<matplotlib.figure.Figure at 0x105fedfd0>"
       ]
      }
     ],
     "prompt_number": 13
    },
    {
     "cell_type": "code",
     "collapsed": false,
     "input": [
      "x = np.linspace(0,1,num=11)\n",
      "m=0 \n",
      "#plot(x,exact(x,1,init='arc')) \n",
      "time600 = np.linspace(0,1,num=kinv+1) \n",
      "hinv = 10 \n",
      "kinv = 600 \n",
      "u_600 = heat_solver(hinv,kinv, init ='arc') \n",
      "gamma = hinv**2./kinv\n",
      "m=0\n",
      "plot(x, exact(x,2,init ='arc') -  exact(x,1,init ='arc'))\n",
      "m = 1\n",
      "print 8./((2.*m+1)*pi)**3*np.sin((2*m+1)*pi*x)*np.exp(-(pi*(2*m + 1))**2*1) "
     ],
     "language": "python",
     "metadata": {},
     "outputs": [
      {
       "output_type": "stream",
       "stream": "stdout",
       "text": [
        "[  0.00000000e+00   2.04833827e-41   2.40796606e-41   7.82395600e-42\n",
        "  -1.48820487e-41  -2.53188535e-41  -1.48820487e-41   7.82395600e-42\n",
        "   2.40796606e-41   2.04833827e-41   9.30199585e-57]\n"
       ]
      },
      {
       "metadata": {},
       "output_type": "display_data",
       "png": "[encoded data removed]",
       "text": [
        "<matplotlib.figure.Figure at 0x107ad2f90>"
       ]
      }
     ],
     "prompt_number": 39
    },
    {
     "cell_type": "code",
     "collapsed": false,
     "input": [
      "hinv = 10\n",
      "kinv = 200\n",
      "test= heat_solver(hinv,kinv) \n",
      "x = np.linspace(0,1,num=hinv+1)\n",
      "plot( x, test[1,:])\n",
      "plot(x,exact(x))"
     ],
     "language": "python",
     "metadata": {},
     "outputs": [
      {
       "ename": "TypeError",
       "evalue": "exact() takes at least 2 arguments (1 given)",
       "output_type": "pyerr",
       "traceback": [
        "\u001b[0;31m---------------------------------------------------------------------------\u001b[0m\n\u001b[0;31mTypeError\u001b[0m                                 Traceback (most recent call last)",
        "\u001b[0;32m<ipython-input-38-de2498197606>\u001b[0m in \u001b[0;36m<module>\u001b[0;34m()\u001b[0m\n\u001b[1;32m      4\u001b[0m \u001b[0mx\u001b[0m \u001b[0;34m=\u001b[0m \u001b[0mnp\u001b[0m\u001b[0;34m.\u001b[0m\u001b[0mlinspace\u001b[0m\u001b[0;34m(\u001b[0m\u001b[0;36m0\u001b[0m\u001b[0;34m,\u001b[0m\u001b[0;36m1\u001b[0m\u001b[0;34m,\u001b[0m\u001b[0mnum\u001b[0m\u001b[0;34m=\u001b[0m\u001b[0mhinv\u001b[0m\u001b[0;34m+\u001b[0m\u001b[0;36m1\u001b[0m\u001b[0;34m)\u001b[0m\u001b[0;34m\u001b[0m\u001b[0m\n\u001b[1;32m      5\u001b[0m \u001b[0mplot\u001b[0m\u001b[0;34m(\u001b[0m \u001b[0mx\u001b[0m\u001b[0;34m,\u001b[0m \u001b[0mtest\u001b[0m\u001b[0;34m[\u001b[0m\u001b[0;36m1\u001b[0m\u001b[0;34m,\u001b[0m\u001b[0;34m:\u001b[0m\u001b[0;34m]\u001b[0m\u001b[0;34m)\u001b[0m\u001b[0;34m\u001b[0m\u001b[0m\n\u001b[0;32m----> 6\u001b[0;31m \u001b[0mplot\u001b[0m\u001b[0;34m(\u001b[0m\u001b[0mx\u001b[0m\u001b[0;34m,\u001b[0m\u001b[0mexact\u001b[0m\u001b[0;34m(\u001b[0m\u001b[0mx\u001b[0m\u001b[0;34m)\u001b[0m\u001b[0;34m)\u001b[0m\u001b[0;34m\u001b[0m\u001b[0m\n\u001b[0m",
        "\u001b[0;31mTypeError\u001b[0m: exact() takes at least 2 arguments (1 given)"
       ]
      },
      {
       "metadata": {},
       "output_type": "display_data",
       "png": "[encoded data removed]",
       "text": [
        "<matplotlib.figure.Figure at 0x1074c3b10>"
       ]
      }
     ],
     "prompt_number": 38
    },
    {
     "cell_type": "code",
     "collapsed": false,
     "input": [
      "hinv = 10\n",
      "kinv = 200\n",
      "testing = heat_solver_full(hinv,kinv) \n",
      "x = np.linspace(0,1,num=hinv+1)\n",
      "plot(x,testing[12,:])\n",
      "#plot(x,test[1,:]) \n",
      "#plot(np.exp(-pi**2*1)*np.sin(pi*x))"
     ],
     "language": "python",
     "metadata": {},
     "outputs": [
      {
       "metadata": {},
       "output_type": "pyout",
       "prompt_number": 7,
       "text": [
        "[<matplotlib.lines.Line2D at 0x105cf0c50>]"
       ]
      },
      {
       "metadata": {},
       "output_type": "display_data",
       "png": "[encoded data removed]",
       "text": [
        "<matplotlib.figure.Figure at 0x105cad350>"
       ]
      }
     ],
     "prompt_number": 7
    },
    {
     "cell_type": "markdown",
     "metadata": {},
     "source": [
      "Idea for checking convergence: look at the derivatives? "
     ]
    },
    {
     "cell_type": "code",
     "collapsed": false,
     "input": [
      "def dtime(u_matrix, kinv): \n",
      "    '''compute the time derivative at every point in the history'''\n",
      "    dudt= np.zeros(u_matrix.shape) \n",
      "    for i in xrange(kinv): \n",
      "        dudt[i,:] = kinv*(u_matrix[i+1,:] - u_matrix[i,:])\n",
      "    return dudt \n",
      "def dspace(u_matrix, hinv): \n",
      "    '''compute the time derivative at every point in the history'''\n",
      "    dxdt= np.zeros(u_matrix.shape) \n",
      "    for i in xrange(hinv): \n",
      "        dxdt[:,i] = hinv*u_matrix[:,i+1] - u_matrix[:,i]\n",
      "    return dxdt "
     ],
     "language": "python",
     "metadata": {},
     "outputs": [],
     "prompt_number": 8
    },
    {
     "cell_type": "code",
     "collapsed": false,
     "input": [
      "hinv = 10 \n",
      "kinv = 200 \n",
      "time200 = np.linspace(0,1,num=201) \n",
      "u_200 = heat_solver_full(hinv,kinv) \n",
      "dt200 = dtime(u_200,kinv) \n",
      "dx200 = dspace(u_200,hinv) \n",
      "gamma = hinv**2./kinv\n",
      "print gamma \n",
      "\n",
      "time600 = np.linspace(0,1,num=601) \n",
      "\n",
      "hinv = 10 \n",
      "kinv = 600 \n",
      "u_600 = heat_solver_full(hinv,kinv) \n",
      "dt600 = dtime(u_600,kinv) \n",
      "dx600 = dspace(u_600,hinv)\n",
      "gamma = hinv**2./kinv\n",
      "print gamma \n",
      "\n",
      "hinv = 10\n",
      "kinv = 1800 \n",
      "time1000 = np.linspace(0,1,num=kinv+1) \n",
      "u_1800 = heat_solver_full(hinv,kinv) \n",
      "dt1800 = dtime(u_1800,kinv) \n",
      "dx1800 = dspace(u_1800,hinv)\n",
      "gamma = hinv**2./kinv\n",
      "print gamma \n"
     ],
     "language": "python",
     "metadata": {},
     "outputs": [
      {
       "output_type": "stream",
       "stream": "stdout",
       "text": [
        "0.5\n",
        "0.166666666667\n",
        "0.0555555555556"
       ]
      },
      {
       "output_type": "stream",
       "stream": "stdout",
       "text": [
        "\n"
       ]
      }
     ],
     "prompt_number": 11
    },
    {
     "cell_type": "markdown",
     "metadata": {},
     "source": [
      "Let's look at convergence for fixed $\\lambda$ (see notes for derivation) An alternative idea to fall back on is that the solution should converge to something with small enough timestep. I could just use that as the exact solution... "
     ]
    },
    {
     "cell_type": "code",
     "collapsed": false,
     "input": [
      "\n",
      "time600 = np.linspace(0,1,num=kinv+1) \n",
      "hinv = 10 \n",
      "kinv = 600 \n",
      "u_600 = heat_solver(hinv,kinv) \n",
      "gamma = hinv**2./kinv\n",
      "print gamma \n",
      "\n",
      "hinv = 20\n",
      "kinv = 2400\n",
      "time2400 = np.linspace(0,1,num=kinv+1) \n",
      "u_2400 = heat_solver(hinv,kinv) \n",
      "gamma = hinv**2./kinv\n",
      "print gamma \n",
      "\n",
      "hinv = 40\n",
      "kinv = 9600\n",
      "time9600 = np.linspace(0,1,num=kinv+1) \n",
      "u_9600 = heat_solver(hinv,kinv) \n",
      "gamma = hinv**2./kinv\n",
      "print gamma "
     ],
     "language": "python",
     "metadata": {},
     "outputs": [
      {
       "output_type": "stream",
       "stream": "stdout",
       "text": [
        "0.166666666667\n",
        "0.166666666667"
       ]
      },
      {
       "output_type": "stream",
       "stream": "stdout",
       "text": [
        "\n",
        "0.166666666667"
       ]
      },
      {
       "output_type": "stream",
       "stream": "stdout",
       "text": [
        "\n"
       ]
      }
     ],
     "prompt_number": 42
    },
    {
     "cell_type": "markdown",
     "metadata": {},
     "source": [
      "before calculating p, need to interpolate u to same grid"
     ]
    },
    {
     "cell_type": "code",
     "collapsed": false,
     "input": [
      "from scipy import interpolate\n",
      "x = np.linspace(0,1,num=11) \n",
      "x21 = np.linspace(0,1,num = 21) \n",
      "u_24 = interpolate.interp1d(x21,u_2400[1,:])\n",
      "x41 = np.linspace(0,1,num=41) \n",
      "u_96 = interpolate.interp1d(x41,u_9600[1,:])\n",
      "plot(x, u_24(x)) "
     ],
     "language": "python",
     "metadata": {},
     "outputs": [
      {
       "metadata": {},
       "output_type": "pyout",
       "prompt_number": 37,
       "text": [
        "[<matplotlib.lines.Line2D at 0x107d73690>]"
       ]
      },
      {
       "metadata": {},
       "output_type": "display_data",
       "png": "[encoded data removed]",
       "text": [
        "<matplotlib.figure.Figure at 0x107d31350>"
       ]
      }
     ],
     "prompt_number": 37
    },
    {
     "cell_type": "code",
     "collapsed": false,
     "input": [
      "p = np.log((u_600[1,:]-u_24(x))/(u_24(x)-u_96(x)))/np.log(2.) \n",
      "print p "
     ],
     "language": "python",
     "metadata": {},
     "outputs": [
      {
       "output_type": "stream",
       "stream": "stdout",
       "text": [
        "[        nan  4.01014094  4.01014094  4.01014094  4.01014094  4.01014094\n",
        "  4.01014094  4.01014094  4.01014094  4.01014094         nan]\n"
       ]
      }
     ],
     "prompt_number": 44
    },
    {
     "cell_type": "code",
     "collapsed": false,
     "input": [
      "time200 = np.linspace(0,1,num=kinv+1) \n",
      "hinv = 10 \n",
      "kinv = 200 \n",
      "u_200 = heat_solver(hinv,kinv) \n",
      "gamma = hinv**2./kinv\n",
      "print gamma \n",
      "\n",
      "hinv = 20\n",
      "kinv = 800\n",
      "time800 = np.linspace(0,1,num=kinv+1) \n",
      "u_800 = heat_solver(hinv,kinv) \n",
      "gamma = hinv**2./kinv\n",
      "print gamma \n",
      "\n",
      "hinv = 40\n",
      "kinv = 3200\n",
      "time3200 = np.linspace(0,1,num=kinv+1) \n",
      "u_3200 = heat_solver(hinv,kinv) \n",
      "gamma = hinv**2./kinv\n",
      "print gamma "
     ],
     "language": "python",
     "metadata": {},
     "outputs": [
      {
       "output_type": "stream",
       "stream": "stdout",
       "text": [
        "0.5\n",
        "0.5"
       ]
      },
      {
       "output_type": "stream",
       "stream": "stdout",
       "text": [
        "\n",
        "0.5"
       ]
      },
      {
       "output_type": "stream",
       "stream": "stdout",
       "text": [
        "\n"
       ]
      }
     ],
     "prompt_number": 39
    },
    {
     "cell_type": "code",
     "collapsed": false,
     "input": [
      "x21 = np.linspace(0,1,num = 21) \n",
      "u_80 = interpolate.interp1d(x21,u_800[1,:])\n",
      "x41 = np.linspace(0,1,num=41) \n",
      "u_320 = interpolate.interp1d(x41,u_3200[1,:])"
     ],
     "language": "python",
     "metadata": {},
     "outputs": [],
     "prompt_number": 40
    },
    {
     "cell_type": "code",
     "collapsed": false,
     "input": [
      "p = np.log((u_200[1,:]-u_80(x))/(u_80(x)-u_320(x)))/np.log(2.) \n",
      "print p "
     ],
     "language": "python",
     "metadata": {},
     "outputs": [
      {
       "output_type": "stream",
       "stream": "stdout",
       "text": [
        "[        nan  1.92422168  1.92422168  1.92422168  1.92422168  1.92422168\n",
        "  1.92422168  1.92422168  1.92422168  1.92422168         nan]\n"
       ]
      }
     ],
     "prompt_number": 41
    },
    {
     "cell_type": "heading",
     "level": 1,
     "metadata": {},
     "source": [
      "fixed gamma solver for nonlinear heat equation"
     ]
    },
    {
     "cell_type": "markdown",
     "metadata": {},
     "source": [
      "method should be some sort of adaptive time step that keeps gamma ($\\alpha k/h^2$) constant and equal to 1/6.  $k= h^2/(6 \\alpha)$\n",
      "\n",
      "problem: how do adjacent points with different alpha talk to each other? Is it sufficient to just keep gamma <1/2? "
     ]
    },
    {
     "cell_type": "heading",
     "level": 4,
     "metadata": {},
     "source": [
      "First lets try keeping the same solver but using a time step small enough to keep everywhere stable, but with different gamma"
     ]
    },
    {
     "cell_type": "code",
     "collapsed": false,
     "input": [
      "def heat_solver_nl(hinv,kinv,alpha,init='sine'):\n",
      "    '''solve the nonlinear heat equation (with heat diffusivity alpha(x))\n",
      "    using with space step 1/hinv and time step 1/kinv along the interval [0,1]\n",
      "    and return the solution at t=1'''\n",
      "    x = np.linspace(0,1,num=hinv+1)\n",
      "    u = np.zeros((2,hinv+1))\n",
      "    #alpha = 8*(x-x**2)\n",
      "    gamma = (alpha(x)/kinv)/(1./hinv)**2\n",
      "    print gamma\n",
      "    if max(gamma) > 0.5:\n",
      "        kinv = int((max(alpha(x))/0.5)/(1./hinv)**2)+1\n",
      "        print 'warning: changing kinv to {0} for stability'.format(kinv)\n",
      "        gamma = (alpha(x)/kinv)/(1./hinv)**2\n",
      "        print gamma\n",
      "    if init == 'sine': \n",
      "        u[1,:] = np.sin(pi*x) \n",
      "    if init == 'arc':\n",
      "        u[1,:] = x*(1-x)\n",
      "    for i in xrange(0,kinv):\n",
      "        u[0,:] = u[1,:]\n",
      "        for j in xrange(1,hinv): \n",
      "            u[1,j] = u[0,j] + gamma[j] * (u[0,j+1] - 2*u[0,j] + u[0,j-1])            \n",
      "        #apply boundary conditions\n",
      "        u[1,0] = 0\n",
      "        u[1,-1] = 0 \n",
      "    return u"
     ],
     "language": "python",
     "metadata": {},
     "outputs": [],
     "prompt_number": 64
    },
    {
     "cell_type": "code",
     "collapsed": false,
     "input": [
      "alpha = lambda y: y/y\n",
      "x = np.linspace(0,1,num=10+1)\n",
      "print alpha(x) "
     ],
     "language": "python",
     "metadata": {},
     "outputs": [
      {
       "output_type": "stream",
       "stream": "stdout",
       "text": [
        "[ nan   1.   1.   1.   1.   1.   1.   1.   1.   1.   1.]\n"
       ]
      }
     ],
     "prompt_number": 65
    },
    {
     "cell_type": "code",
     "collapsed": false,
     "input": [
      "test = heat_solver_nl(10,600, alpha) \n",
      "x = np.linspace(0,1,num=11) \n",
      "plot(x, test[1,:]) "
     ],
     "language": "python",
     "metadata": {},
     "outputs": [
      {
       "output_type": "stream",
       "stream": "stdout",
       "text": [
        "[        nan  0.16666667  0.16666667  0.16666667  0.16666667  0.16666667\n",
        "  0.16666667  0.16666667  0.16666667  0.16666667  0.16666667]\n"
       ]
      },
      {
       "metadata": {},
       "output_type": "pyout",
       "prompt_number": 66,
       "text": [
        "[<matplotlib.lines.Line2D at 0x107ab2410>]"
       ]
      },
      {
       "metadata": {},
       "output_type": "display_data",
       "png": "[encoded data removed]",
       "text": [
        "<matplotlib.figure.Figure at 0x107a76990>"
       ]
      }
     ],
     "prompt_number": 66
    },
    {
     "cell_type": "code",
     "collapsed": false,
     "input": [
      "test40 = heat_solver_nl(40,9600, alpha ) \n",
      "x40 = np.linspace(0,1,num = 41) "
     ],
     "language": "python",
     "metadata": {},
     "outputs": [
      {
       "output_type": "stream",
       "stream": "stdout",
       "text": [
        "[ 0.          0.0325      0.06333333  0.0925      0.12        0.14583333\n",
        "  0.17        0.1925      0.21333333  0.2325      0.25        0.26583333\n",
        "  0.28        0.2925      0.30333333  0.3125      0.32        0.32583333\n",
        "  0.33        0.3325      0.33333333  0.3325      0.33        0.32583333\n",
        "  0.32        0.3125      0.30333333  0.2925      0.28        0.26583333\n",
        "  0.25        0.2325      0.21333333  0.1925      0.17        0.14583333\n",
        "  0.12        0.0925      0.06333333  0.0325      0.        ]\n"
       ]
      }
     ],
     "prompt_number": 35
    },
    {
     "cell_type": "code",
     "collapsed": false,
     "input": [
      "plot(x, test[399,:]) \n",
      "plot(x40,test40[9600,:]) "
     ],
     "language": "python",
     "metadata": {},
     "outputs": [
      {
       "metadata": {},
       "output_type": "pyout",
       "prompt_number": 38,
       "text": [
        "[<matplotlib.lines.Line2D at 0x106de4b10>]"
       ]
      },
      {
       "metadata": {},
       "output_type": "display_data",
       "png": "[encoded data removed]",
       "text": [
        "<matplotlib.figure.Figure at 0x106de4b50>"
       ]
      }
     ],
     "prompt_number": 38
    },
    {
     "cell_type": "markdown",
     "metadata": {},
     "source": [
      "hmm... how do I check if it's failing? I should use the convergence procedure from before but solve for the exact solution "
     ]
    },
    {
     "cell_type": "code",
     "collapsed": false,
     "input": [
      "time600 = np.linspace(0,1,num=kinv+1) \n",
      "hinv = 10 \n",
      "kinv = 600 \n",
      "u_600 = heat_solver_nl(hinv,kinv) \n",
      "gamma = hinv**2./kinv\n",
      "print gamma \n",
      "\n",
      "hinv = 20\n",
      "kinv = 2400\n",
      "time2400 = np.linspace(0,1,num=kinv+1) \n",
      "u_2400 = heat_solver_nl(hinv,kinv) \n",
      "gamma = hinv**2./kinv\n",
      "print gamma \n",
      "\n",
      "hinv = 40\n",
      "kinv = 9600\n",
      "time9600 = np.linspace(0,1,num=kinv+1) \n",
      "u_9600 = heat_solver_nl(hinv,kinv) \n",
      "gamma = hinv**2./kinv\n",
      "print gamma \n",
      "\n"
     ],
     "language": "python",
     "metadata": {},
     "outputs": [
      {
       "output_type": "stream",
       "stream": "stdout",
       "text": [
        "0.166666666667\n",
        "0.166666666667"
       ]
      },
      {
       "output_type": "stream",
       "stream": "stdout",
       "text": [
        "\n",
        "0.166666666667"
       ]
      },
      {
       "output_type": "stream",
       "stream": "stdout",
       "text": [
        "\n"
       ]
      }
     ],
     "prompt_number": 100
    },
    {
     "cell_type": "code",
     "collapsed": false,
     "input": [
      "from scipy import interpolate\n",
      "x = np.linspace(0,1,num=11) \n",
      "x21 = np.linspace(0,1,num = 21) \n",
      "u_24 = interpolate.interp1d(x21,u_2400[2400,:])\n",
      "x41 = np.linspace(0,1,num=41) \n",
      "u_96 = interpolate.interp1d(x41,u_9600[9600,:])\n",
      "plot(x, u_600[600,:]) \n",
      "plot(x, u_24(x)) \n",
      "plot(x, u_96(x)) "
     ],
     "language": "python",
     "metadata": {},
     "outputs": [
      {
       "metadata": {},
       "output_type": "pyout",
       "prompt_number": 101,
       "text": [
        "[<matplotlib.lines.Line2D at 0x10cc1c590>]"
       ]
      },
      {
       "metadata": {},
       "output_type": "display_data",
       "png": "[encoded data removed]",
       "text": [
        "<matplotlib.figure.Figure at 0x106eefb50>"
       ]
      }
     ],
     "prompt_number": 101
    },
    {
     "cell_type": "code",
     "collapsed": false,
     "input": [
      "p = np.log((u_600[600,:]-u_24(x))/(u_24(x)-u_96(x)))/np.log(4.) \n",
      "print p "
     ],
     "language": "python",
     "metadata": {},
     "outputs": [
      {
       "output_type": "stream",
       "stream": "stdout",
       "text": [
        "[        nan  0.61913648  0.73176837  0.78262218  0.81097904  0.82815702\n",
        "  0.83887112  0.84550117  0.84939801  0.85139127         nan]\n"
       ]
      }
     ],
     "prompt_number": 102
    },
    {
     "cell_type": "code",
     "collapsed": false,
     "input": [
      "plot(x, 2*x*1./6) \n"
     ],
     "language": "python",
     "metadata": {},
     "outputs": [
      {
       "metadata": {},
       "output_type": "pyout",
       "prompt_number": 103,
       "text": [
        "[<matplotlib.lines.Line2D at 0x10cabde10>]"
       ]
      },
      {
       "metadata": {},
       "output_type": "display_data",
       "png": "[encoded data removed]",
       "text": [
        "<matplotlib.figure.Figure at 0x10cc3aa10>"
       ]
      }
     ],
     "prompt_number": 103
    },
    {
     "cell_type": "code",
     "collapsed": false,
     "input": [
      "plot(p[1:-2]) "
     ],
     "language": "python",
     "metadata": {},
     "outputs": [
      {
       "metadata": {},
       "output_type": "pyout",
       "prompt_number": 104,
       "text": [
        "[<matplotlib.lines.Line2D at 0x10d60d9d0>]"
       ]
      },
      {
       "metadata": {},
       "output_type": "display_data",
       "png": "[encoded data removed]",
       "text": [
        "<matplotlib.figure.Figure at 0x10c9ddbd0>"
       ]
      }
     ],
     "prompt_number": 104
    },
    {
     "cell_type": "code",
     "collapsed": false,
     "input": [
      "f3, ((ax3,ax4),(ax5,ax6)) = plt.subplots(2,2, sharex='col')"
     ],
     "language": "python",
     "metadata": {},
     "outputs": [
      {
       "metadata": {},
       "output_type": "display_data",
       "png": "[encoded data removed]",
       "text": [
        "<matplotlib.figure.Figure at 0x10813db50>"
       ]
      }
     ],
     "prompt_number": 74
    },
    {
     "cell_type": "code",
     "collapsed": false,
     "input": [
      "def heat_solver_nl2(hinv,kinv,alpha,init='sine'):\n",
      "    '''solve the nonlinear heat equation (with heat diffusivity alpha(x))\n",
      "    using with space step 1/hinv and time step 1/kinv along the interval [0,1]\n",
      "    and return the solution at t=1'''\n",
      "    x = np.linspace(0,1,num=hinv+1)\n",
      "    u = np.zeros((2,hinv+1))\n",
      "    #alpha = 8*(x-x**2)\n",
      "    gamma = (alpha/kinv)/(1./hinv)**2\n",
      "    print gamma\n",
      "    if max(gamma) > 0.5:\n",
      "        kinv = int((max(alpha)/0.5)/(1./hinv)**2)+1\n",
      "        print 'warning: changing kinv to {0} for stability'.format(kinv)\n",
      "        gamma = (alpha/kinv)/(1./hinv)**2\n",
      "        print gamma\n",
      "    if init == 'sine': \n",
      "        u[1,:] = np.sin(pi*x) \n",
      "    if init == 'arc':\n",
      "        u[1,:] = x*(1-x)\n",
      "    for i in xrange(0,kinv):\n",
      "        u[0,:] = u[1,:]\n",
      "        for j in xrange(1,hinv): \n",
      "            u[1,j] = u[0,j] + gamma[j] * (u[0,j+1] - 2*u[0,j] + u[0,j-1])            \n",
      "        #apply boundary conditions\n",
      "        u[1,0] = 0\n",
      "        u[1,-1] = 0 \n",
      "    return u"
     ],
     "language": "python",
     "metadata": {},
     "outputs": [],
     "prompt_number": 89
    },
    {
     "cell_type": "code",
     "collapsed": false,
     "input": [
      "alpha2 = np.zeros(len(x))\n",
      "for i in range(len(x)): \n",
      "    if x[i]>0.51:\n",
      "        alpha2[i]=10\n",
      "    else:\n",
      "        alpha2[i]=1\n",
      "print alpha2"
     ],
     "language": "python",
     "metadata": {},
     "outputs": [
      {
       "output_type": "stream",
       "stream": "stdout",
       "text": [
        "[  1.   1.   1.   1.   1.   1.  10.  10.  10.  10.  10.]\n"
       ]
      }
     ],
     "prompt_number": 93
    },
    {
     "cell_type": "code",
     "collapsed": false,
     "input": [
      "test = heat_solver_nl2(10,600, alpha2) \n",
      "x = np.linspace(0,1,num=11) \n",
      "plot(x, test[1,:]) "
     ],
     "language": "python",
     "metadata": {},
     "outputs": [
      {
       "output_type": "stream",
       "stream": "stdout",
       "text": [
        "[ 0.16666667  0.16666667  0.16666667  0.16666667  0.16666667  0.16666667\n",
        "  1.66666667  1.66666667  1.66666667  1.66666667  1.66666667]\n",
        "warning: changing kinv to 2000 for stability\n",
        "[ 0.05  0.05  0.05  0.05  0.05  0.05  0.5   0.5   0.5   0.5   0.5 ]\n"
       ]
      },
      {
       "metadata": {},
       "output_type": "pyout",
       "prompt_number": 94,
       "text": [
        "[<matplotlib.lines.Line2D at 0x10813b290>]"
       ]
      },
      {
       "metadata": {},
       "output_type": "display_data",
       "png": "[encoded data removed]",
       "text": [
        "<matplotlib.figure.Figure at 0x1081c8350>"
       ]
      }
     ],
     "prompt_number": 94
    },
    {
     "cell_type": "code",
     "collapsed": false,
     "input": [
      "\n",
      "alpha2 = np.zeros(len(x))\n",
      "for i in range(len(x)): \n",
      "    if x[i]>0.5:\n",
      "        alpha2[i]=10\n",
      "    else:\n",
      "        alpha2[i]=1"
     ],
     "language": "python",
     "metadata": {},
     "outputs": [],
     "prompt_number": 105
    },
    {
     "cell_type": "code",
     "collapsed": false,
     "input": [
      "def heat_solver_alt(hinv,kinv,alpha,init='sine'):\n",
      "    '''solve the nonlinear heat equation (with heat diffusivity alpha(x))\n",
      "    using with space step 1/hinv and time step 1/kinv along the interval [0,1]\n",
      "    and return the solution at t=1'''\n",
      "    x = np.linspace(0,1,num=hinv+1)\n",
      "    u = np.zeros((2,hinv+1))\n",
      "    #alpha = 8*(x-x**2)\n",
      "    gamma = (alpha/kinv)/(1./hinv)**2\n",
      "    print gamma\n",
      "    kinv_sub = (alpha/(1./6))/(1./hinv)**2\n",
      "    gamma = (alpha/kinv_sub)/(1./hinv)**2 #gamma is now a constant\n",
      "    print gamma2\n",
      "    print kinv_sub\n",
      "    #if max(gamma) > 0.5:\n",
      "     #   kinv = int((max(alpha)/0.5)/(1./hinv)**2)+1\n",
      "     #   print 'warning: changing kinv to {0} for stability'.format(kinv)\n",
      "     #   gamma = (alpha/kinv)/(1./hinv)**2\n",
      "     #   print gamma\n",
      "    if init == 'sine': \n",
      "        u[1,:] = np.sin(pi*x) \n",
      "    if init == 'arc':\n",
      "        u[1,:] = x*(1-x)\n",
      "    for i in xrange(0,kinv):\n",
      "        u[0,:] = u[1,:]\n",
      "        for j in xrange(1,hinv):\n",
      "            if kinv_sub[j] > kinv:\n",
      "                utmp = \n",
      "                for n in xrange(int(kinv_sub[j]/kinv)):\n",
      "                    u[1,j] = u[0,j] + gamma[j] * (u[0,j] - 2*u[0,j-1] + u[0,j-2])  \n",
      "            else:\n",
      "                u[1,j] = u[0,j] + gamma[j] * (u[0,j+1] - 2*u[0,j] + u[0,j-1])            \n",
      "        #apply boundary conditions\n",
      "        u[1,0] = 0\n",
      "        u[1,-1] = 0 \n",
      "    return u"
     ],
     "language": "python",
     "metadata": {},
     "outputs": [],
     "prompt_number": 113
    },
    {
     "cell_type": "code",
     "collapsed": false,
     "input": [
      "test = heat_solver_alt(10,600, alpha2) \n",
      "x = np.linspace(0,1,num=11) \n",
      "plot(x, test[1,:]) "
     ],
     "language": "python",
     "metadata": {},
     "outputs": [
      {
       "output_type": "stream",
       "stream": "stdout",
       "text": [
        "[ 0.16666667  0.16666667  0.16666667  0.16666667  0.16666667  0.16666667\n",
        "  1.66666667  1.66666667  1.66666667  1.66666667  1.66666667]\n",
        "[ 0.16666667  0.16666667  0.16666667  0.16666667  0.16666667  0.16666667\n",
        "  0.16666667  0.16666667  0.16666667  0.16666667  0.16666667]\n",
        "[  600.   600.   600.   600.   600.   600.  6000.  6000.  6000.  6000.\n",
        "  6000.]\n"
       ]
      },
      {
       "output_type": "stream",
       "stream": "stderr",
       "text": [
        "-c:26: RuntimeWarning: overflow encountered in double_scalars\n",
        "-c:26: RuntimeWarning: invalid value encountered in double_scalars\n"
       ]
      },
      {
       "metadata": {},
       "output_type": "pyout",
       "prompt_number": 114,
       "text": [
        "[<matplotlib.lines.Line2D at 0x1083db190>]"
       ]
      },
      {
       "metadata": {},
       "output_type": "display_data",
       "png": "[encoded data removed]",
       "text": [
        "<matplotlib.figure.Figure at 0x10812da10>"
       ]
      }
     ],
     "prompt_number": 114
    },
    {
     "cell_type": "code",
     "collapsed": false,
     "input": [],
     "language": "python",
     "metadata": {},
     "outputs": []
    }
   ],
   "metadata": {}
  }
 ]
}